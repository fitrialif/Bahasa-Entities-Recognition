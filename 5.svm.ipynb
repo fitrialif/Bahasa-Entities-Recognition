{
 "cells": [
  {
   "cell_type": "code",
   "execution_count": 1,
   "metadata": {},
   "outputs": [],
   "source": [
    "import re\n",
    "import numpy as np\n",
    "from sklearn.metrics import classification_report\n",
    "from sklearn.feature_extraction.text import CountVectorizer, TfidfVectorizer\n",
    "from sklearn.linear_model import SGDClassifier"
   ]
  },
  {
   "cell_type": "code",
   "execution_count": 2,
   "metadata": {},
   "outputs": [
    {
     "data": {
      "text/plain": [
       "12194"
      ]
     },
     "execution_count": 2,
     "metadata": {},
     "output_type": "execute_result"
    }
   ],
   "source": [
    "with open('entities-bm.txt','r') as fopen:\n",
    "    texts= list(filter(None, fopen.read().split('\\n')))\n",
    "len(texts)"
   ]
  },
  {
   "cell_type": "code",
   "execution_count": 3,
   "metadata": {},
   "outputs": [],
   "source": [
    "tag2idx = {'PAD': 0}\n",
    "char2idx = {'PAD': 0}\n",
    "tag_idx = 1\n",
    "char_idx = 1"
   ]
  },
  {
   "cell_type": "code",
   "execution_count": 4,
   "metadata": {},
   "outputs": [],
   "source": [
    "def process_word(word, lower=True):\n",
    "    if lower:\n",
    "        word = word.lower()\n",
    "    else:\n",
    "        if word.isupper():\n",
    "            word = word.title()\n",
    "    word = re.sub('[^A-Za-z0-9\\- ]+', '', word)\n",
    "    if word.isdigit():\n",
    "        word = 'NUM'\n",
    "    return word\n",
    "\n",
    "def read_file(f):\n",
    "    global tag_idx, char_idx\n",
    "    words, tags, X, Y = [], [], [], []\n",
    "    for line in f:\n",
    "        line = line.strip()\n",
    "        if (len(line) == 0 or line.startswith(\"-DOCSTART-\")):\n",
    "            continue\n",
    "        else:\n",
    "            ls = line.split(' ')\n",
    "            if len(ls) > 1:\n",
    "                word, tag = ls[0],ls[-1]\n",
    "            else:\n",
    "                word = ls[0]\n",
    "                tag = 'O'\n",
    "            word = process_word(word)\n",
    "            if len(word) < 1:\n",
    "                continue\n",
    "            char_ids = []\n",
    "            for c in word:\n",
    "                if c not in char2idx:\n",
    "                    char2idx[c] = char_idx\n",
    "                    char_idx += 1\n",
    "                char_ids.append(char2idx[c])\n",
    "            words += [word]\n",
    "            tags += [tag]\n",
    "            X.append(char_ids)\n",
    "            if tag not in tag2idx:\n",
    "                tag2idx[tag] = tag_idx\n",
    "                tag_idx += 1\n",
    "            Y.append(tag2idx[tag])\n",
    "                        \n",
    "    return words, tags, X, np.array(Y)"
   ]
  },
  {
   "cell_type": "code",
   "execution_count": 5,
   "metadata": {},
   "outputs": [],
   "source": [
    "words, _, _, Y = read_file(texts)"
   ]
  },
  {
   "cell_type": "code",
   "execution_count": 6,
   "metadata": {},
   "outputs": [],
   "source": [
    "bow = CountVectorizer(ngram_range=(1, 1), analyzer='char').fit(words)\n",
    "tfidf = TfidfVectorizer(ngram_range=(1, 1), analyzer='char').fit(words)"
   ]
  },
  {
   "cell_type": "code",
   "execution_count": 7,
   "metadata": {},
   "outputs": [],
   "source": [
    "X = np.hstack([bow.transform(words).todense(),tfidf.transform(words).todense()])"
   ]
  },
  {
   "cell_type": "code",
   "execution_count": 8,
   "metadata": {},
   "outputs": [
    {
     "name": "stderr",
     "output_type": "stream",
     "text": [
      "/usr/local/lib/python3.5/dist-packages/sklearn/linear_model/stochastic_gradient.py:117: DeprecationWarning: n_iter parameter is deprecated in 0.19 and will be removed in 0.21. Use max_iter and tol instead.\n",
      "  DeprecationWarning)\n"
     ]
    },
    {
     "name": "stdout",
     "output_type": "stream",
     "text": [
      "accuracy validation set:  0.7716606498194946\n",
      "             precision    recall  f1-score   support\n",
      "\n",
      "        FAC       0.00      0.00      0.00       405\n",
      "        PRN       0.78      0.99      0.87      9275\n",
      "        ART       0.56      0.13      0.21      1190\n",
      "        DOC       0.00      0.00      0.00       130\n",
      "       NORP       0.00      0.00      0.00       304\n",
      "          O       0.75      0.03      0.05       106\n",
      "        PAD       0.89      0.08      0.14       106\n",
      "        LAW       0.73      0.04      0.08       514\n",
      "      EVENT       0.00      0.00      0.00        64\n",
      "       TIME       0.00      0.00      0.00        93\n",
      "        ORG       0.00      0.00      0.00         1\n",
      "\n",
      "avg / total       0.69      0.77      0.69     12188\n",
      "\n"
     ]
    },
    {
     "name": "stderr",
     "output_type": "stream",
     "text": [
      "/usr/local/lib/python3.5/dist-packages/sklearn/metrics/classification.py:1428: UserWarning: labels size, 11, does not match size of target_names, 12\n",
      "  .format(len(labels), len(target_names))\n",
      "/usr/local/lib/python3.5/dist-packages/sklearn/metrics/classification.py:1135: UndefinedMetricWarning: Precision and F-score are ill-defined and being set to 0.0 in labels with no predicted samples.\n",
      "  'precision', 'predicted', average, warn_for)\n"
     ]
    }
   ],
   "source": [
    "mod_huber = SGDClassifier(loss = 'modified_huber', \n",
    "                                  penalty = 'l2', alpha = 1e-3, \n",
    "                                  n_iter = 10).fit(X, Y)\n",
    "predicted = mod_huber.predict(X)\n",
    "print('accuracy validation set: ', np.mean(predicted == Y))\n",
    "\n",
    "# print scores\n",
    "print(classification_report(Y, predicted, target_names=tag2idx.keys()))"
   ]
  },
  {
   "cell_type": "code",
   "execution_count": 10,
   "metadata": {},
   "outputs": [
    {
     "data": {
      "text/plain": [
       "(12188, 12025)"
      ]
     },
     "execution_count": 10,
     "metadata": {},
     "output_type": "execute_result"
    }
   ],
   "source": [
    "results = []\n",
    "for i in range(1,5):\n",
    "    results.append(CountVectorizer(ngram_range=(1, i), analyzer='char').fit_transform(words).todense())\n",
    "    \n",
    "X = np.hstack(results)\n",
    "X.shape"
   ]
  },
  {
   "cell_type": "code",
   "execution_count": 11,
   "metadata": {},
   "outputs": [
    {
     "name": "stderr",
     "output_type": "stream",
     "text": [
      "/usr/local/lib/python3.5/dist-packages/sklearn/linear_model/stochastic_gradient.py:117: DeprecationWarning: n_iter parameter is deprecated in 0.19 and will be removed in 0.21. Use max_iter and tol instead.\n",
      "  DeprecationWarning)\n"
     ]
    },
    {
     "name": "stdout",
     "output_type": "stream",
     "text": [
      "accuracy validation set:  0.8959632425336397\n",
      "             precision    recall  f1-score   support\n",
      "\n",
      "        FAC       0.76      0.74      0.75       405\n",
      "        PRN       0.93      0.96      0.95      9275\n",
      "        ART       0.85      0.76      0.81      1190\n",
      "        DOC       0.95      0.80      0.87       130\n",
      "       NORP       0.52      0.64      0.57       304\n",
      "          O       0.97      0.54      0.69       106\n",
      "        PAD       0.71      0.39      0.50       106\n",
      "        LAW       0.65      0.61      0.63       514\n",
      "      EVENT       0.85      0.53      0.65        64\n",
      "       TIME       0.89      0.54      0.67        93\n",
      "        ORG       0.00      0.00      0.00         1\n",
      "\n",
      "avg / total       0.90      0.90      0.89     12188\n",
      "\n"
     ]
    },
    {
     "name": "stderr",
     "output_type": "stream",
     "text": [
      "/usr/local/lib/python3.5/dist-packages/sklearn/metrics/classification.py:1428: UserWarning: labels size, 11, does not match size of target_names, 12\n",
      "  .format(len(labels), len(target_names))\n",
      "/usr/local/lib/python3.5/dist-packages/sklearn/metrics/classification.py:1135: UndefinedMetricWarning: Precision and F-score are ill-defined and being set to 0.0 in labels with no predicted samples.\n",
      "  'precision', 'predicted', average, warn_for)\n"
     ]
    }
   ],
   "source": [
    "mod_huber = SGDClassifier(loss = 'modified_huber', \n",
    "                                  penalty = 'l2', alpha = 1e-3, \n",
    "                                  n_iter = 10).fit(X, Y)\n",
    "predicted = mod_huber.predict(X)\n",
    "print('accuracy validation set: ', np.mean(predicted == Y))\n",
    "\n",
    "# print scores\n",
    "print(classification_report(Y, predicted, target_names=tag2idx.keys()))"
   ]
  },
  {
   "cell_type": "code",
   "execution_count": 12,
   "metadata": {},
   "outputs": [
    {
     "data": {
      "text/plain": [
       "(12188, 12025)"
      ]
     },
     "execution_count": 12,
     "metadata": {},
     "output_type": "execute_result"
    }
   ],
   "source": [
    "results = []\n",
    "for i in range(1,5):\n",
    "    results.append(TfidfVectorizer(ngram_range=(1, i), analyzer='char').fit_transform(words).todense())\n",
    "    \n",
    "X = np.hstack(results)\n",
    "X.shape"
   ]
  },
  {
   "cell_type": "code",
   "execution_count": 13,
   "metadata": {},
   "outputs": [
    {
     "name": "stderr",
     "output_type": "stream",
     "text": [
      "/usr/local/lib/python3.5/dist-packages/sklearn/linear_model/stochastic_gradient.py:117: DeprecationWarning: n_iter parameter is deprecated in 0.19 and will be removed in 0.21. Use max_iter and tol instead.\n",
      "  DeprecationWarning)\n"
     ]
    },
    {
     "name": "stdout",
     "output_type": "stream",
     "text": [
      "accuracy validation set:  0.8840662947161142\n",
      "             precision    recall  f1-score   support\n",
      "\n",
      "        FAC       0.74      0.61      0.67       405\n",
      "        PRN       0.89      0.99      0.94      9275\n",
      "        ART       0.86      0.72      0.78      1190\n",
      "        DOC       0.96      0.65      0.78       130\n",
      "       NORP       0.76      0.26      0.38       304\n",
      "          O       0.96      0.41      0.57       106\n",
      "        PAD       0.89      0.24      0.37       106\n",
      "        LAW       0.78      0.46      0.57       514\n",
      "      EVENT       0.88      0.36      0.51        64\n",
      "       TIME       0.88      0.47      0.62        93\n",
      "        ORG       0.00      0.00      0.00         1\n",
      "\n",
      "avg / total       0.88      0.88      0.87     12188\n",
      "\n"
     ]
    },
    {
     "name": "stderr",
     "output_type": "stream",
     "text": [
      "/usr/local/lib/python3.5/dist-packages/sklearn/metrics/classification.py:1428: UserWarning: labels size, 11, does not match size of target_names, 12\n",
      "  .format(len(labels), len(target_names))\n",
      "/usr/local/lib/python3.5/dist-packages/sklearn/metrics/classification.py:1135: UndefinedMetricWarning: Precision and F-score are ill-defined and being set to 0.0 in labels with no predicted samples.\n",
      "  'precision', 'predicted', average, warn_for)\n"
     ]
    }
   ],
   "source": [
    "mod_huber = SGDClassifier(loss = 'modified_huber', \n",
    "                                  penalty = 'l2', alpha = 1e-3, \n",
    "                                  n_iter = 10).fit(X, Y)\n",
    "predicted = mod_huber.predict(X)\n",
    "print('accuracy validation set: ', np.mean(predicted == Y))\n",
    "\n",
    "# print scores\n",
    "print(classification_report(Y, predicted, target_names=tag2idx.keys()))"
   ]
  },
  {
   "cell_type": "code",
   "execution_count": null,
   "metadata": {},
   "outputs": [],
   "source": []
  }
 ],
 "metadata": {
  "kernelspec": {
   "display_name": "Python 3",
   "language": "python",
   "name": "python3"
  },
  "language_info": {
   "codemirror_mode": {
    "name": "ipython",
    "version": 3
   },
   "file_extension": ".py",
   "mimetype": "text/x-python",
   "name": "python",
   "nbconvert_exporter": "python",
   "pygments_lexer": "ipython3",
   "version": "3.5.2"
  }
 },
 "nbformat": 4,
 "nbformat_minor": 2
}
